{
  "cells": [
    {
      "cell_type": "code",
      "execution_count": null,
      "id": "6a97244a",
      "metadata": {
        "colab": {
          "base_uri": "https://localhost:8080/"
        },
        "id": "6a97244a",
        "outputId": "792f446e-4bae-472c-be42-403ecab88e08"
      },
      "outputs": [
        {
          "output_type": "stream",
          "name": "stdout",
          "text": [
            "Looking in indexes: https://pypi.org/simple, https://us-python.pkg.dev/colab-wheels/public/simple/\n",
            "Collecting pyspark\n",
            "  Downloading pyspark-3.4.0.tar.gz (310.8 MB)\n",
            "\u001b[2K     \u001b[90m━━━━━━━━━━━━━━━━━━━━━━━━━━━━━━━━━━━━━━━\u001b[0m \u001b[32m310.8/310.8 MB\u001b[0m \u001b[31m2.2 MB/s\u001b[0m eta \u001b[36m0:00:00\u001b[0m\n",
            "\u001b[?25h  Preparing metadata (setup.py) ... \u001b[?25l\u001b[?25hdone\n",
            "Requirement already satisfied: py4j==0.10.9.7 in /usr/local/lib/python3.10/dist-packages (from pyspark) (0.10.9.7)\n",
            "Building wheels for collected packages: pyspark\n",
            "  Building wheel for pyspark (setup.py) ... \u001b[?25l\u001b[?25hdone\n",
            "  Created wheel for pyspark: filename=pyspark-3.4.0-py2.py3-none-any.whl size=311317130 sha256=4a3e6895a74991531efb55ef6e84ab92662cada45ad52be4bb774963ff3771a1\n",
            "  Stored in directory: /root/.cache/pip/wheels/7b/1b/4b/3363a1d04368e7ff0d408e57ff57966fcdf00583774e761327\n",
            "Successfully built pyspark\n",
            "Installing collected packages: pyspark\n",
            "Successfully installed pyspark-3.4.0\n"
          ]
        }
      ],
      "source": [
        "pip install pyspark"
      ]
    },
    {
      "cell_type": "code",
      "execution_count": null,
      "id": "82d424ed",
      "metadata": {
        "id": "82d424ed"
      },
      "outputs": [],
      "source": [
        "from pyspark.sql import SparkSession\n",
        "from pyspark.sql import SparkSession\n",
        "from pyspark import SparkConf\n",
        "\n",
        "#conf = SparkConf().set(\"spark.driver.memory\", \"8g\").set(\"spark.executor.memory\", \"16g\")\n",
        "spark = SparkSession.builder.appName(\"application\").getOrCreate()"
      ]
    },
    {
      "cell_type": "code",
      "execution_count": null,
      "id": "72ed9b37",
      "metadata": {
        "id": "72ed9b37"
      },
      "outputs": [],
      "source": [
        "#récupérer la dataset \n",
        "data = spark.read.format(\"csv\").option(\"header\", \"true\").load(\"/content/creditcarddata (1).csv\")"
      ]
    },
    {
      "cell_type": "code",
      "execution_count": null,
      "id": "60cfb8d4",
      "metadata": {
        "colab": {
          "base_uri": "https://localhost:8080/"
        },
        "id": "60cfb8d4",
        "outputId": "649ab9cb-906d-41c6-b56a-eb1d415c0394"
      },
      "outputs": [
        {
          "output_type": "stream",
          "name": "stdout",
          "text": [
            "+----+--------+-------+-----------+-------------+--------------+-----------+--------------+--------------+-------+--------------+\n",
            "|step|    type| amount|   nameOrig|oldbalanceOrg|newbalanceOrig|   nameDest|oldbalanceDest|newbalanceDest|isFraud|isFlaggedFraud|\n",
            "+----+--------+-------+-----------+-------------+--------------+-----------+--------------+--------------+-------+--------------+\n",
            "|   1| PAYMENT|9839.64|C1231006815|     170136.0|     160296.36|M1979787155|           0.0|           0.0|      0|             0|\n",
            "|   1| PAYMENT|1864.28|C1666544295|      21249.0|      19384.72|M2044282225|           0.0|           0.0|      0|             0|\n",
            "|   1|TRANSFER|  181.0|C1305486145|        181.0|           0.0| C553264065|           0.0|           0.0|      1|             0|\n",
            "+----+--------+-------+-----------+-------------+--------------+-----------+--------------+--------------+-------+--------------+\n",
            "only showing top 3 rows\n",
            "\n"
          ]
        }
      ],
      "source": [
        "data.show(3)"
      ]
    },
    {
      "cell_type": "code",
      "execution_count": null,
      "id": "f51edd89",
      "metadata": {
        "colab": {
          "base_uri": "https://localhost:8080/"
        },
        "id": "f51edd89",
        "outputId": "4798e8e3-77bd-4461-a7a7-745a3843d088"
      },
      "outputs": [
        {
          "output_type": "stream",
          "name": "stdout",
          "text": [
            "832020\n"
          ]
        }
      ],
      "source": [
        "#calculer le nombre des lignes de notre jeu de données \n",
        "print(data.count())"
      ]
    },
    {
      "cell_type": "code",
      "execution_count": null,
      "id": "758362ca",
      "metadata": {
        "colab": {
          "base_uri": "https://localhost:8080/"
        },
        "id": "758362ca",
        "outputId": "0c37d2cc-3ec9-4926-c882-b857ff8aaca7"
      },
      "outputs": [
        {
          "output_type": "stream",
          "name": "stdout",
          "text": [
            "['step', 'type', 'amount', 'nameOrig', 'oldbalanceOrg', 'newbalanceOrig', 'nameDest', 'oldbalanceDest', 'newbalanceDest', 'isFraud', 'isFlaggedFraud']\n"
          ]
        }
      ],
      "source": [
        "#les colonnes du dataset \n",
        "print((data.columns))"
      ]
    },
    {
      "cell_type": "code",
      "execution_count": null,
      "id": "76fb8616",
      "metadata": {
        "id": "76fb8616"
      },
      "outputs": [],
      "source": [
        "#les valeurs uniques de la colonne type\n",
        "type=data.select(\"type\").distinct()"
      ]
    },
    {
      "cell_type": "code",
      "execution_count": null,
      "id": "32d8993c",
      "metadata": {
        "colab": {
          "base_uri": "https://localhost:8080/"
        },
        "id": "32d8993c",
        "outputId": "19b8a6f0-b0f2-4e03-ac42-401d43a7a216"
      },
      "outputs": [
        {
          "output_type": "stream",
          "name": "stdout",
          "text": [
            "+--------+\n",
            "|    type|\n",
            "+--------+\n",
            "|TRANSFER|\n",
            "| CASH_IN|\n",
            "|CASH_OUT|\n",
            "| PAYMENT|\n",
            "|   DEBIT|\n",
            "+--------+\n",
            "\n"
          ]
        }
      ],
      "source": [
        "type.show()"
      ]
    },
    {
      "cell_type": "code",
      "execution_count": null,
      "id": "bc12cfc1",
      "metadata": {
        "id": "bc12cfc1"
      },
      "outputs": [],
      "source": [
        "fraud = data.select(\"isFlaggedFraud\").distinct()"
      ]
    },
    {
      "cell_type": "code",
      "execution_count": null,
      "id": "272d8bf2",
      "metadata": {
        "colab": {
          "base_uri": "https://localhost:8080/"
        },
        "id": "272d8bf2",
        "outputId": "87021a86-aa16-4122-8db1-a878425613ae"
      },
      "outputs": [
        {
          "output_type": "stream",
          "name": "stdout",
          "text": [
            "+--------------+\n",
            "|isFlaggedFraud|\n",
            "+--------------+\n",
            "|             0|\n",
            "+--------------+\n",
            "\n"
          ]
        }
      ],
      "source": [
        "fraud.show()"
      ]
    },
    {
      "cell_type": "code",
      "execution_count": null,
      "id": "96f2b8f1",
      "metadata": {
        "id": "96f2b8f1"
      },
      "outputs": [],
      "source": [
        "#summuary \n",
        "\n",
        "summary = data.describe()"
      ]
    },
    {
      "cell_type": "code",
      "execution_count": null,
      "id": "2b297bc6",
      "metadata": {
        "colab": {
          "base_uri": "https://localhost:8080/"
        },
        "id": "2b297bc6",
        "outputId": "d6c8e595-cbdf-4917-af10-84b25e94697a"
      },
      "outputs": [
        {
          "output_type": "stream",
          "name": "stdout",
          "text": [
            "+-------+------------------+--------+------------------+-----------+------------------+------------------+-----------+-----------------+------------------+--------------------+--------------+\n",
            "|summary|              step|    type|            amount|   nameOrig|     oldbalanceOrg|    newbalanceOrig|   nameDest|   oldbalanceDest|    newbalanceDest|             isFraud|isFlaggedFraud|\n",
            "+-------+------------------+--------+------------------+-----------+------------------+------------------+-----------+-----------------+------------------+--------------------+--------------+\n",
            "|  count|            832020|  832020|            832020|     832020|            832020|            832020|     832020|           832020|            832020|              832020|        832020|\n",
            "|   mean| 21.58470950217543|    null|163796.90531986227|       null| 876783.5094123041| 897407.3559809306|       null|985007.9625891179|1135182.6037981522|5.672940554313598E-4|           0.0|\n",
            "| stddev|10.777414383131708|    null| 266130.6516138919|       null|2956195.9658161527|2993121.8788015093|       null|2314462.088002938|2447449.7021169025|0.023811193047125385|           0.0|\n",
            "|    min|                 1| CASH_IN|               0.1|C1000008582|               0.0|               0.0|C1000015936|              0.0|               0.0|                   0|             0|\n",
            "|    max|                 9|TRANSFER|         999982.77| C999999254|        9999924.86|        9999924.86| M999996397|       9999979.74|        9999979.74|                   1|             0|\n",
            "+-------+------------------+--------+------------------+-----------+------------------+------------------+-----------+-----------------+------------------+--------------------+--------------+\n",
            "\n"
          ]
        }
      ],
      "source": [
        "summary.show()"
      ]
    },
    {
      "cell_type": "code",
      "execution_count": null,
      "id": "e94c2a65",
      "metadata": {
        "colab": {
          "base_uri": "https://localhost:8080/"
        },
        "id": "e94c2a65",
        "outputId": "838fd191-4fda-4020-bd08-d2e93f35a2ac"
      },
      "outputs": [
        {
          "output_type": "stream",
          "name": "stdout",
          "text": [
            "+----+----+------+--------+-------------+--------------+--------+--------------+--------------+-------+--------------+\n",
            "|step|type|amount|nameOrig|oldbalanceOrg|newbalanceOrig|nameDest|oldbalanceDest|newbalanceDest|isFraud|isFlaggedFraud|\n",
            "+----+----+------+--------+-------------+--------------+--------+--------------+--------------+-------+--------------+\n",
            "|   0|   0|     0|       0|            0|             0|       0|             0|             0|      0|             0|\n",
            "+----+----+------+--------+-------------+--------------+--------+--------------+--------------+-------+--------------+\n",
            "\n"
          ]
        }
      ],
      "source": [
        "# compter le nombre des valeurs manquantes dans chaque colonne de notre jeu de données \n",
        "\n",
        "from pyspark.sql.functions import isnan,when,count,col\n",
        "\n",
        "data.select([count(when(isnan(c),c)).alias(c) for c in data.columns]).show()"
      ]
    },
    {
      "cell_type": "code",
      "execution_count": null,
      "id": "b63b1161",
      "metadata": {
        "colab": {
          "base_uri": "https://localhost:8080/"
        },
        "id": "b63b1161",
        "outputId": "fd23965c-8c56-4b38-8462-ae5b4790d582"
      },
      "outputs": [
        {
          "output_type": "stream",
          "name": "stdout",
          "text": [
            "root\n",
            " |-- step: string (nullable = true)\n",
            " |-- type: string (nullable = true)\n",
            " |-- amount: string (nullable = true)\n",
            " |-- nameOrig: string (nullable = true)\n",
            " |-- oldbalanceOrg: string (nullable = true)\n",
            " |-- newbalanceOrig: string (nullable = true)\n",
            " |-- nameDest: string (nullable = true)\n",
            " |-- oldbalanceDest: string (nullable = true)\n",
            " |-- newbalanceDest: string (nullable = true)\n",
            " |-- isFraud: string (nullable = true)\n",
            " |-- isFlaggedFraud: string (nullable = true)\n",
            "\n"
          ]
        }
      ],
      "source": [
        "#visualiser le type des colonnes qu'on a \n",
        "data.printSchema()"
      ]
    },
    {
      "cell_type": "code",
      "execution_count": null,
      "id": "11a59947",
      "metadata": {
        "id": "11a59947"
      },
      "outputs": [],
      "source": [
        "#le schéma de notre jeu de données montre que toutes les colonnes ayant String comme type\n",
        "#il existe plusierus colonnes sont de type Int d'où il faut les convertir \n",
        "# les colonnes qui seront converti sont : step,amount,isFraud,isFlaggedFraud,oldbalanceOrg,newbalanceOrig,oldbalanceDest,newbalanceDest\n",
        "\n",
        "from pyspark.sql.functions import col\n",
        "#la colonne step est de type integer \n",
        "data = data.withColumn(\"step\", col(\"step\").cast(\"int\"))\n",
        "#la colonne amount est de type float\n",
        "data = data.withColumn(\"amount\", col(\"amount\").cast(\"float\"))\n",
        "#la colonne isFraud est de type boolean \"0 ou 1\"\n",
        "data = data.withColumn(\"isFraud\", col(\"isFraud\").cast(\"int\"))\n",
        "#la colonne isFlaggedFraud est de type boolean \n",
        "data = data.withColumn(\"isFlaggedFraud\", col(\"isFlaggedFraud\").cast(\"boolean\"))\n",
        "#la colonne oldbalance0rg est de type float \n",
        "data = data.withColumn(\"oldbalanceOrg\", col(\"oldbalanceOrg\").cast(\"float\"))\n",
        "#la colonne newbalanceOrig est de type float \n",
        "data = data.withColumn(\"newbalanceOrig\", col(\"newbalanceOrig\").cast(\"float\"))\n",
        "#la colonne oldbalanceDest est de type float \n",
        "data = data.withColumn(\"oldbalanceDest\", col(\"oldbalanceDest\").cast(\"float\"))\n",
        "#la colonne newbalanceDest est de type float \n",
        "data = data.withColumn(\"newbalanceDest\", col(\"newbalanceDest\").cast(\"float\"))\n",
        "\n"
      ]
    },
    {
      "cell_type": "code",
      "execution_count": null,
      "id": "ce3d2e67",
      "metadata": {
        "colab": {
          "base_uri": "https://localhost:8080/"
        },
        "id": "ce3d2e67",
        "outputId": "cb976865-2512-48d3-de62-5036fa21b00c"
      },
      "outputs": [
        {
          "output_type": "stream",
          "name": "stdout",
          "text": [
            "root\n",
            " |-- step: integer (nullable = true)\n",
            " |-- type: string (nullable = true)\n",
            " |-- amount: float (nullable = true)\n",
            " |-- nameOrig: string (nullable = true)\n",
            " |-- oldbalanceOrg: float (nullable = true)\n",
            " |-- newbalanceOrig: float (nullable = true)\n",
            " |-- nameDest: string (nullable = true)\n",
            " |-- oldbalanceDest: float (nullable = true)\n",
            " |-- newbalanceDest: float (nullable = true)\n",
            " |-- isFraud: integer (nullable = true)\n",
            " |-- isFlaggedFraud: boolean (nullable = true)\n",
            "\n"
          ]
        }
      ],
      "source": [
        "#visualiser le nouveau schéma \n",
        "data.printSchema()"
      ]
    },
    {
      "cell_type": "code",
      "execution_count": null,
      "id": "fa879d36",
      "metadata": {
        "id": "fa879d36",
        "colab": {
          "base_uri": "https://localhost:8080/",
          "height": 607
        },
        "outputId": "e5c967b8-9e1d-41d2-c2c4-c7a1a3ae5e0d"
      },
      "outputs": [
        {
          "output_type": "stream",
          "name": "stderr",
          "text": [
            "<ipython-input-19-dab96b69718f>:13: MatplotlibDeprecationWarning: Auto-removal of overlapping axes is deprecated since 3.6 and will be removed two minor releases later; explicitly call ax.remove() as needed.\n",
            "  plt.subplot(1,2,1)\n"
          ]
        },
        {
          "output_type": "display_data",
          "data": {
            "text/plain": [
              "<Figure size 1600x600 with 1 Axes>"
            ],
            "image/png": "[encoded data removed]"
          },
          "metadata": {}
        }
      ],
      "source": [
        "#Visualisation \n",
        "\n",
        "\n",
        "# Fraud non Fraud \n",
        "import pandas as pd\n",
        "import matplotlib.pyplot as plt\n",
        "from pyspark.sql.functions import col\n",
        "df = data.limit(2000000)\n",
        "pd_df = df.toPandas()\n",
        "plt.subplots(1,1, figsize=(16,6))\n",
        "\n",
        "# countplot to visualize the no. of observations under each class\n",
        "plt.subplot(1,2,1)\n",
        "ax = pd_df['isFraud'].value_counts().plot(kind='bar')\n",
        "plt.xlabel('Type de Transaction', fontsize=15, fontweight='bold')\n",
        "plt.xticks(ticks=[0,1], labels=['Non-Fraud','Fraud'], rotation=0, fontsize=12, fontweight='bold')\n",
        "plt.ylabel('Nb des observations ', fontsize=15, fontweight='bold')\n",
        "plt.yticks(fontsize=12, fontweight='bold')\n",
        "\n",
        "for i in ax.patches:\n",
        "    ax.text(i.get_x()+0.1, i.get_height()+3, str(round(i.get_height(), 2)), fontsize=15, color='black')"
      ]
    },
    {
      "cell_type": "code",
      "execution_count": null,
      "id": "92fb6e23",
      "metadata": {
        "colab": {
          "base_uri": "https://localhost:8080/",
          "height": 576
        },
        "id": "92fb6e23",
        "outputId": "55c2aeaa-0ace-400d-fe10-5391f1e8b5b4"
      },
      "outputs": [
        {
          "output_type": "display_data",
          "data": {
            "text/plain": [
              "<Figure size 1200x600 with 1 Axes>"
            ],
            "image/png": "[encoded data removed]"
          },
          "metadata": {}
        }
      ],
      "source": [
        "#Visualisation de type de transactions \n",
        "import seaborn as sns\n",
        "plt.subplots(figsize=(12,6))\n",
        "sns.countplot(x='type', data=pd_df)\n",
        "plt.xlabel('Type of Transaction', fontsize=15, fontweight='bold')\n",
        "plt.xticks(fontsize=12, fontweight='bold')\n",
        "plt.ylabel('Nombre de transactions', fontsize=15, fontweight='bold')\n",
        "plt.yticks(fontsize=12, fontweight='bold')\n",
        "plt.title('Distribution  des transactions par type', fontsize=15, fontweight='bold')\n",
        "plt.show()"
      ]
    },
    {
      "cell_type": "code",
      "execution_count": null,
      "id": "bc8c239c",
      "metadata": {
        "colab": {
          "base_uri": "https://localhost:8080/",
          "height": 576
        },
        "id": "bc8c239c",
        "outputId": "a2d3beb9-cae9-403e-8897-6f3367be5b52"
      },
      "outputs": [
        {
          "output_type": "display_data",
          "data": {
            "text/plain": [
              "<Figure size 700x600 with 1 Axes>"
            ],
            "image/png": "[encoded data removed]"
          },
          "metadata": {}
        }
      ],
      "source": [
        "#visualisation de type de transaction selon les transactions frauduleuses \n",
        "plt.subplots(figsize=(7,6))\n",
        "fr_df = pd_df[pd_df['isFraud'] == 1]\n",
        "ax =sns.countplot(x='type', data=fr_df)\n",
        "for i in ax.patches:\n",
        "    ax.text(i.get_x()+0.1, i.get_height()+3, str(round(i.get_height(), 2)), fontsize=15, color='black')\n",
        "plt.xlabel('Type de Transaction', fontsize=15, fontweight='bold')\n",
        "plt.xticks(fontsize=12, fontweight='bold')\n",
        "plt.ylabel('Nombre des transactions frauduleuses', fontsize=15, fontweight='bold')\n",
        "plt.yticks(fontsize=12, fontweight='bold')\n",
        "plt.title('Nombre des transactions frauduleuses par type', fontsize=15, fontweight='bold')\n",
        "plt.show()"
      ]
    },
    {
      "cell_type": "code",
      "execution_count": null,
      "id": "88096f81",
      "metadata": {
        "colab": {
          "base_uri": "https://localhost:8080/",
          "height": 429
        },
        "id": "88096f81",
        "outputId": "87c84aba-8514-411d-9c41-9cba5ac38b29"
      },
      "outputs": [
        {
          "output_type": "display_data",
          "data": {
            "text/plain": [
              "<Figure size 640x480 with 1 Axes>"
            ],
            "image/png": "[encoded data removed]"
          },
          "metadata": {}
        }
      ],
      "source": [
        "#isFlaggedFraud Visualisation\n",
        "from pyspark.sql.functions import col\n",
        "\n",
        "\n",
        "fraud_counts = data.groupBy(\"isFlaggedFraud\").count().collect()\n",
        "fraud_labels = [str(row[\"isFlaggedFraud\"]) for row in fraud_counts]\n",
        "fraud_values = [int(row[\"count\"]) for row in fraud_counts]\n",
        "\n",
        "# Créez le graphique pie\n",
        "plt.pie(fraud_values, labels=fraud_labels, autopct='%1.1f%%')\n",
        "\n",
        "# Ajouter le titre et afficher le graphique\n",
        "plt.title(\"Répartition des transactions frauduleuses\")\n",
        "plt.show()\n",
        "\n",
        "\n"
      ]
    },
    {
      "cell_type": "code",
      "execution_count": null,
      "id": "efc7f89b",
      "metadata": {
        "colab": {
          "base_uri": "https://localhost:8080/",
          "height": 640
        },
        "id": "efc7f89b",
        "outputId": "88689a31-f1c8-48f0-a75f-cfd26cd45516"
      },
      "outputs": [
        {
          "output_type": "stream",
          "name": "stderr",
          "text": [
            "<ipython-input-23-bd63039a2b05>:5: FutureWarning: The default value of numeric_only in DataFrame.corr is deprecated. In a future version, it will default to False. Select only valid columns or specify the value of numeric_only to silence this warning.\n",
            "  sub_sample_corr = pd_df.corr()\n"
          ]
        },
        {
          "output_type": "display_data",
          "data": {
            "text/plain": [
              "<Figure size 1800x800 with 2 Axes>"
            ],
            "image/png": "[encoded data removed]"
          },
          "metadata": {}
        }
      ],
      "source": [
        "# Matrice de corrélation corrélation \n",
        "\n",
        "f, ax = plt.subplots(figsize=(18,8))\n",
        "\n",
        "sub_sample_corr = pd_df.corr()\n",
        "sns.heatmap(sub_sample_corr, cmap='coolwarm_r', annot_kws={'size':10}, ax=ax)\n",
        "ax.set_title('Correlation Matrix', fontsize=14)\n",
        "plt.show()"
      ]
    },
    {
      "cell_type": "code",
      "execution_count": null,
      "id": "fab03577",
      "metadata": {
        "id": "fab03577"
      },
      "outputs": [],
      "source": [
        "#Pour les colonnes  : nameDest et nameOrig\n",
        "\n",
        "#leurs valeurs sont similiares s'où le meme traitement sera appliqué sur les deux colonnes \n",
        "# la première opération à effectuer est la suppression du premier caractère \n",
        "# puis diviser la valeurs en deux colonnes une pour le premier caractère et la deuxième sera pour la valeur numérique \n",
        "\n",
        "import pyspark.sql.functions as F\n",
        "data=(data.withColumn('orig',F.substring('nameOrig',1,1))\n",
        "      .withColumn('n_orig',F.col('nameOrig').substr(F.lit(2),F.length('nameOrig') - F.lit(1)))\n",
        "     \n",
        "     )\n",
        "data = data.drop('nameOrig')"
      ]
    },
    {
      "cell_type": "code",
      "execution_count": null,
      "id": "b7ff2ef3",
      "metadata": {
        "id": "b7ff2ef3"
      },
      "outputs": [],
      "source": [
        "import pyspark.sql.functions as F\n",
        "data=(data.withColumn('dest',F.substring('nameDest',1,1))\n",
        "      .withColumn('n_dest',F.col('nameDest').substr(F.lit(2),F.length('nameDest') - F.lit(1)))\n",
        "     \n",
        "     )\n",
        "data = data.drop('nameDest')"
      ]
    },
    {
      "cell_type": "code",
      "execution_count": null,
      "id": "6f8dfc31",
      "metadata": {
        "id": "6f8dfc31"
      },
      "outputs": [],
      "source": [
        "#maintenant on peut covertir les colonnes possédant des caractères en valeurs numériques \n",
        "from pyspark.ml.feature import StringIndexer\n",
        "indexer2 = StringIndexer(inputCol=\"dest\", outputCol=\"dest_index\")\n",
        "data = indexer2.fit(data).transform(data)\n",
        "\n",
        "#\n",
        "\n",
        "indexer3 = StringIndexer(inputCol=\"orig\", outputCol=\"orig_index\")\n",
        "data = indexer3.fit(data).transform(data)"
      ]
    },
    {
      "cell_type": "code",
      "execution_count": null,
      "id": "07bd5ff4",
      "metadata": {
        "id": "07bd5ff4"
      },
      "outputs": [],
      "source": [
        "#convertir la variable catégoriale type\n",
        "\n",
        "indexer = StringIndexer(inputCol=\"type\", outputCol=\"type_index\")\n",
        "\n",
        "data = indexer.fit(data).transform(data)\n"
      ]
    },
    {
      "cell_type": "code",
      "execution_count": null,
      "id": "24825340",
      "metadata": {
        "id": "24825340"
      },
      "outputs": [],
      "source": [
        "#on supprime les colonnes converti \n",
        "data = data.drop('type')"
      ]
    },
    {
      "cell_type": "code",
      "execution_count": null,
      "id": "393d6e07",
      "metadata": {
        "colab": {
          "base_uri": "https://localhost:8080/"
        },
        "id": "393d6e07",
        "outputId": "6bd97b98-012a-43cb-8b80-ad9d81328ee3"
      },
      "outputs": [
        {
          "output_type": "stream",
          "name": "stdout",
          "text": [
            "+----+-------+-------------+--------------+--------------+--------------+-------+--------------+----+----------+----+----------+----------+----------+----------+\n",
            "|step| amount|oldbalanceOrg|newbalanceOrig|oldbalanceDest|newbalanceDest|isFraud|isFlaggedFraud|orig|    n_orig|dest|    n_dest|dest_index|orig_index|type_index|\n",
            "+----+-------+-------------+--------------+--------------+--------------+-------+--------------+----+----------+----+----------+----------+----------+----------+\n",
            "|   1|9839.64|     170136.0|     160296.36|           0.0|           0.0|      0|         false|   C|1231006815|   M|1979787155|       1.0|       0.0|       1.0|\n",
            "|   1|1864.28|      21249.0|      19384.72|           0.0|           0.0|      0|         false|   C|1666544295|   M|2044282225|       1.0|       0.0|       1.0|\n",
            "|   1|  181.0|        181.0|           0.0|           0.0|           0.0|      1|         false|   C|1305486145|   C| 553264065|       0.0|       0.0|       3.0|\n",
            "+----+-------+-------------+--------------+--------------+--------------+-------+--------------+----+----------+----+----------+----------+----------+----------+\n",
            "only showing top 3 rows\n",
            "\n"
          ]
        }
      ],
      "source": [
        "data.show(3)"
      ]
    },
    {
      "cell_type": "code",
      "execution_count": null,
      "id": "b42ad141",
      "metadata": {
        "id": "b42ad141"
      },
      "outputs": [],
      "source": [
        "#suppression de la colonne \"isFlaggedFraud\"\n",
        "data = data.drop('isFlaggedFraud')"
      ]
    },
    {
      "cell_type": "code",
      "execution_count": null,
      "id": "539274ad",
      "metadata": {
        "colab": {
          "base_uri": "https://localhost:8080/"
        },
        "id": "539274ad",
        "outputId": "fad26d54-8b86-4c2c-d10a-235d53619e36"
      },
      "outputs": [
        {
          "output_type": "execute_result",
          "data": {
            "text/plain": [
              "DataFrame[step: int, amount: float, oldbalanceOrg: float, newbalanceOrig: float, oldbalanceDest: float, newbalanceDest: float, isFraud: int, orig: string, n_orig: string, dest: string, n_dest: string, dest_index: double, orig_index: double, type_index: double]"
            ]
          },
          "metadata": {},
          "execution_count": 30
        }
      ],
      "source": [
        "#les nouvelles colonnes qu'on a \n",
        "data"
      ]
    },
    {
      "cell_type": "code",
      "execution_count": null,
      "id": "fe7878bb",
      "metadata": {
        "id": "fe7878bb"
      },
      "outputs": [],
      "source": [
        "data = data.drop('dest')\n",
        "data = data.drop('orig')"
      ]
    },
    {
      "cell_type": "code",
      "execution_count": null,
      "id": "9ee200ab",
      "metadata": {
        "colab": {
          "base_uri": "https://localhost:8080/"
        },
        "id": "9ee200ab",
        "outputId": "b58069cc-0663-4ff8-da51-d10808ae864e"
      },
      "outputs": [
        {
          "output_type": "execute_result",
          "data": {
            "text/plain": [
              "DataFrame[step: int, amount: float, oldbalanceOrg: float, newbalanceOrig: float, oldbalanceDest: float, newbalanceDest: float, isFraud: int, n_orig: string, n_dest: string, dest_index: double, orig_index: double, type_index: double]"
            ]
          },
          "metadata": {},
          "execution_count": 32
        }
      ],
      "source": [
        "data"
      ]
    },
    {
      "cell_type": "code",
      "execution_count": null,
      "id": "aaaeb1c3",
      "metadata": {
        "id": "aaaeb1c3"
      },
      "outputs": [],
      "source": [
        "#convertir la colonne n_orig et n_dest en int \n",
        "data = data.withColumn(\"n_orig\", col(\"n_orig\").cast(\"int\"))\n",
        "data = data.withColumn(\"n_dest\", col(\"n_orig\").cast(\"int\"))"
      ]
    },
    {
      "cell_type": "code",
      "execution_count": null,
      "id": "5aad70ee",
      "metadata": {
        "colab": {
          "base_uri": "https://localhost:8080/"
        },
        "id": "5aad70ee",
        "outputId": "d36ffff5-4f26-4fb7-89bb-dca0eafe60c0"
      },
      "outputs": [
        {
          "output_type": "execute_result",
          "data": {
            "text/plain": [
              "DataFrame[step: int, amount: float, oldbalanceOrg: float, newbalanceOrig: float, oldbalanceDest: float, newbalanceDest: float, isFraud: int, n_orig: int, n_dest: int, dest_index: double, orig_index: double, type_index: double]"
            ]
          },
          "metadata": {},
          "execution_count": 34
        }
      ],
      "source": [
        "data"
      ]
    },
    {
      "cell_type": "code",
      "source": [],
      "metadata": {
        "id": "JZSVWoq6AU7O"
      },
      "id": "JZSVWoq6AU7O",
      "execution_count": null,
      "outputs": []
    },
    {
      "cell_type": "code",
      "source": [
        "from google.colab import drive\n",
        "#Télecharger le jeu donnée pour une utilisation ultérieure \n",
        "drive.mount('/content/drive')\n",
        "data.write.csv('/content/drive/MyDrive/data.csv', header=True, mode='overwrite')\n"
      ],
      "metadata": {
        "id": "ziR_oKUsAUrO",
        "colab": {
          "base_uri": "https://localhost:8080/"
        },
        "outputId": "420f92f4-1631-474a-9f0a-0a44701ccf18"
      },
      "id": "ziR_oKUsAUrO",
      "execution_count": null,
      "outputs": [
        {
          "output_type": "stream",
          "name": "stdout",
          "text": [
            "Mounted at /content/drive\n"
          ]
        }
      ]
    },
    {
      "cell_type": "code",
      "source": [
        "from pyspark.sql.functions import corr\n",
        "#On calcule la corrélation entre la classe cible et toutes les autres colonnes \n",
        "corr_value = data.select(corr('amount', 'isFraud')).collect()[0][0]\n",
        "corr_value_2 = data.select(corr('step', 'isFraud')).collect()[0][0]\n",
        "corr_value_3 = data.select(corr('oldbalanceOrg', 'isFraud')).collect()[0][0]\n",
        "corr_value_4 = data.select(corr('newbalanceOrig', 'isFraud')).collect()[0][0]\n",
        "corr_value_5 = data.select(corr('oldbalanceDest', 'isFraud')).collect()[0][0]\n",
        "corr_value_6 = data.select(corr('newbalanceDest', 'isFraud')).collect()[0][0]\n",
        "corr_value_7 = data.select(corr('n_orig', 'isFraud')).collect()[0][0]\n",
        "corr_value_8 = data.select(corr('n_dest', 'isFraud')).collect()[0][0]\n",
        "corr_value_9 = data.select(corr('dest_index', 'isFraud')).collect()[0][0]\n",
        "corr_value_10 = data.select(corr('orig_index', 'isFraud')).collect()[0][0]\n",
        "corr_value_11 = data.select(corr('type_index', 'isFraud')).collect()[0][0]\n",
        "\n",
        "\n",
        "\n",
        "\n",
        "print(corr_value)\n",
        "print(corr_value_2)\n",
        "print(corr_value_3)\n",
        "print(corr_value_4)\n",
        "print(corr_value_5)\n",
        "print(corr_value_6)\n",
        "print(corr_value_7)\n",
        "print(corr_value_9)\n",
        "print(corr_value_10)\n",
        "print(corr_value_11)\n",
        "\n"
      ],
      "metadata": {
        "colab": {
          "base_uri": "https://localhost:8080/"
        },
        "id": "nl4oCMU_BNN4",
        "outputId": "4a1afa63-d1ab-4cb8-b5f6-e27ccb317748"
      },
      "id": "nl4oCMU_BNN4",
      "execution_count": null,
      "outputs": [
        {
          "output_type": "stream",
          "name": "stdout",
          "text": [
            "0.0708304585218119\n",
            "-0.0012035807109848236\n",
            "0.0007665852722491848\n",
            "-0.0068831412564524215\n",
            "-0.004797929294802491\n",
            "-0.0006955448685350131\n",
            "-0.00046708747493611917\n",
            "-0.016769714229600278\n",
            "None\n",
            "0.009805112539780869\n"
          ]
        }
      ]
    },
    {
      "cell_type": "code",
      "source": [
        "# En se basant sur les corrélations positives nous sélectionnant les features qui infulencent la classe cible\n",
        "# nous choisissons : amount , type , oldbalanceOrig et newbalanceDest \n",
        "df = data['step','amount','oldbalanceOrg','newbalanceDest','type_index','isFraud']"
      ],
      "metadata": {
        "id": "Q-mea_hFsANy"
      },
      "id": "Q-mea_hFsANy",
      "execution_count": null,
      "outputs": []
    },
    {
      "cell_type": "code",
      "source": [
        "df.show()\n"
      ],
      "metadata": {
        "id": "ApjkmY9RI4fW",
        "colab": {
          "base_uri": "https://localhost:8080/"
        },
        "outputId": "14e51e9e-88d7-4525-e6f7-6882e12cf2bc"
      },
      "id": "ApjkmY9RI4fW",
      "execution_count": null,
      "outputs": [
        {
          "output_type": "stream",
          "name": "stdout",
          "text": [
            "+----+---------+-------------+--------------+----------+-------+\n",
            "|step|   amount|oldbalanceOrg|newbalanceDest|type_index|isFraud|\n",
            "+----+---------+-------------+--------------+----------+-------+\n",
            "|   1|  9839.64|     170136.0|           0.0|       1.0|      0|\n",
            "|   1|  1864.28|      21249.0|           0.0|       1.0|      0|\n",
            "|   1|    181.0|        181.0|           0.0|       3.0|      1|\n",
            "|   1|    181.0|        181.0|           0.0|       0.0|      1|\n",
            "|   1| 11668.14|      41554.0|           0.0|       1.0|      0|\n",
            "|   1|  7817.71|      53860.0|           0.0|       1.0|      0|\n",
            "|   1|  7107.77|     183195.0|           0.0|       1.0|      0|\n",
            "|   1|  7861.64|    176087.23|           0.0|       1.0|      0|\n",
            "|   1|  4024.36|       2671.0|           0.0|       1.0|      0|\n",
            "|   1|  5337.77|      41720.0|      40348.79|       4.0|      0|\n",
            "|   1|  9644.94|       4465.0|     157982.12|       4.0|      0|\n",
            "|   1|  3099.97|      20771.0|           0.0|       1.0|      0|\n",
            "|   1|  2560.74|       5070.0|           0.0|       1.0|      0|\n",
            "|   1| 11633.76|      10127.0|           0.0|       1.0|      0|\n",
            "|   1|  4098.78|     503264.0|           0.0|       1.0|      0|\n",
            "|   1|229133.94|      15325.0|      51513.44|       0.0|      0|\n",
            "|   1|  1563.82|        450.0|           0.0|       1.0|      0|\n",
            "|   1|  1157.86|      21156.0|           0.0|       1.0|      0|\n",
            "|   1|   671.64|      15123.0|           0.0|       1.0|      0|\n",
            "|   1| 215310.3|        705.0|           0.0|       3.0|      0|\n",
            "+----+---------+-------------+--------------+----------+-------+\n",
            "only showing top 20 rows\n",
            "\n"
          ]
        }
      ]
    },
    {
      "cell_type": "code",
      "source": [
        "#diviser les données avant d'appliquer ma méthode SMOTE \n",
        "from sklearn.model_selection import train_test_split\n",
        "X = df.toPandas().filter(items=['step', 'amount', 'oldbalanceOrg','newbalanceDest','type_index'])\n",
        "Y = df.toPandas().filter(items=['isFraud'])\n",
        "X_train, X_test, Y_train, Y_test = train_test_split(X, Y, test_size=0.1, random_state=0)"
      ],
      "metadata": {
        "id": "tjvZZAlJnOv9"
      },
      "id": "tjvZZAlJnOv9",
      "execution_count": null,
      "outputs": []
    },
    {
      "cell_type": "code",
      "source": [
        "X_train.shape"
      ],
      "metadata": {
        "id": "P7ihxfUpnOse",
        "colab": {
          "base_uri": "https://localhost:8080/"
        },
        "outputId": "84259ad1-3f4a-4287-b78e-a43febc693ca"
      },
      "id": "P7ihxfUpnOse",
      "execution_count": null,
      "outputs": [
        {
          "output_type": "execute_result",
          "data": {
            "text/plain": [
              "(748818, 5)"
            ]
          },
          "metadata": {},
          "execution_count": 48
        }
      ]
    },
    {
      "cell_type": "code",
      "source": [
        "Y_test.shape"
      ],
      "metadata": {
        "id": "w1_D-QlVnOpS",
        "colab": {
          "base_uri": "https://localhost:8080/"
        },
        "outputId": "6518e565-fb3f-4810-8aa0-df5f86233a72"
      },
      "id": "w1_D-QlVnOpS",
      "execution_count": null,
      "outputs": [
        {
          "output_type": "execute_result",
          "data": {
            "text/plain": [
              "(83202, 1)"
            ]
          },
          "metadata": {},
          "execution_count": 49
        }
      ]
    },
    {
      "cell_type": "code",
      "source": [
        "from imblearn.over_sampling import SMOTE\n",
        "from imblearn.combine import SMOTEENN\n",
        "from collections import Counter\n",
        "#instanciation du SMOTE \n",
        "oversample = SMOTE()\n",
        "#Appliquer la méthode smote sur les données qu'on a divisé \n",
        "x_train_res, y_train_res = oversample.fit_resample(X_train, Y_train)\n",
        "print('Resampled dataset shape {}'.format(Counter(y_train_res)))"
      ],
      "metadata": {
        "id": "g2rTq8j6nOmH",
        "colab": {
          "base_uri": "https://localhost:8080/"
        },
        "outputId": "21aa2be5-f99b-45de-f540-891b70b69236"
      },
      "id": "g2rTq8j6nOmH",
      "execution_count": null,
      "outputs": [
        {
          "output_type": "stream",
          "name": "stdout",
          "text": [
            "Resampled dataset shape Counter({'isFraud': 1})\n"
          ]
        }
      ]
    },
    {
      "cell_type": "code",
      "source": [
        "y_train_res"
      ],
      "metadata": {
        "id": "OKD7V8b_nOjU",
        "colab": {
          "base_uri": "https://localhost:8080/",
          "height": 423
        },
        "outputId": "14d2a184-1800-462b-aa9f-1dc9c59ef3c2"
      },
      "id": "OKD7V8b_nOjU",
      "execution_count": null,
      "outputs": [
        {
          "output_type": "execute_result",
          "data": {
            "text/plain": [
              "         isFraud\n",
              "0              0\n",
              "1              0\n",
              "2              0\n",
              "3              0\n",
              "4              0\n",
              "...          ...\n",
              "3222399        1\n",
              "3222400        1\n",
              "3222401        1\n",
              "3222402        1\n",
              "3222403        1\n",
              "\n",
              "[3222404 rows x 1 columns]"
            ],
            "text/html": [
              "\n",
              "  <div id=\"df-37833434-4691-469d-af34-80bcf8533da8\">\n",
              "    <div class=\"colab-df-container\">\n",
              "      <div>\n",
              "<style scoped>\n",
              "    .dataframe tbody tr th:only-of-type {\n",
              "        vertical-align: middle;\n",
              "    }\n",
              "\n",
              "    .dataframe tbody tr th {\n",
              "        vertical-align: top;\n",
              "    }\n",
              "\n",
              "    .dataframe thead th {\n",
              "        text-align: right;\n",
              "    }\n",
              "</style>\n",
              "<table border=\"1\" class=\"dataframe\">\n",
              "  <thead>\n",
              "    <tr style=\"text-align: right;\">\n",
              "      <th></th>\n",
              "      <th>isFraud</th>\n",
              "    </tr>\n",
              "  </thead>\n",
              "  <tbody>\n",
              "    <tr>\n",
              "      <th>0</th>\n",
              "      <td>0</td>\n",
              "    </tr>\n",
              "    <tr>\n",
              "      <th>1</th>\n",
              "      <td>0</td>\n",
              "    </tr>\n",
              "    <tr>\n",
              "      <th>2</th>\n",
              "      <td>0</td>\n",
              "    </tr>\n",
              "    <tr>\n",
              "      <th>3</th>\n",
              "      <td>0</td>\n",
              "    </tr>\n",
              "    <tr>\n",
              "      <th>4</th>\n",
              "      <td>0</td>\n",
              "    </tr>\n",
              "    <tr>\n",
              "      <th>...</th>\n",
              "      <td>...</td>\n",
              "    </tr>\n",
              "    <tr>\n",
              "      <th>3222399</th>\n",
              "      <td>1</td>\n",
              "    </tr>\n",
              "    <tr>\n",
              "      <th>3222400</th>\n",
              "      <td>1</td>\n",
              "    </tr>\n",
              "    <tr>\n",
              "      <th>3222401</th>\n",
              "      <td>1</td>\n",
              "    </tr>\n",
              "    <tr>\n",
              "      <th>3222402</th>\n",
              "      <td>1</td>\n",
              "    </tr>\n",
              "    <tr>\n",
              "      <th>3222403</th>\n",
              "      <td>1</td>\n",
              "    </tr>\n",
              "  </tbody>\n",
              "</table>\n",
              "<p>3222404 rows × 1 columns</p>\n",
              "</div>\n",
              "      <button class=\"colab-df-convert\" onclick=\"convertToInteractive('df-37833434-4691-469d-af34-80bcf8533da8')\"\n",
              "              title=\"Convert this dataframe to an interactive table.\"\n",
              "              style=\"display:none;\">\n",
              "        \n",
              "  <svg xmlns=\"http://www.w3.org/2000/svg\" height=\"24px\"viewBox=\"0 0 24 24\"\n",
              "       width=\"24px\">\n",
              "    <path d=\"M0 0h24v24H0V0z\" fill=\"none\"/>\n",
              "    <path d=\"M18.56 5.44l.94 2.06.94-2.06 2.06-.94-2.06-.94-.94-2.06-.94 2.06-2.06.94zm-11 1L8.5 8.5l.94-2.06 2.06-.94-2.06-.94L8.5 2.5l-.94 2.06-2.06.94zm10 10l.94 2.06.94-2.06 2.06-.94-2.06-.94-.94-2.06-.94 2.06-2.06.94z\"/><path d=\"M17.41 7.96l-1.37-1.37c-.4-.4-.92-.59-1.43-.59-.52 0-1.04.2-1.43.59L10.3 9.45l-7.72 7.72c-.78.78-.78 2.05 0 2.83L4 21.41c.39.39.9.59 1.41.59.51 0 1.02-.2 1.41-.59l7.78-7.78 2.81-2.81c.8-.78.8-2.07 0-2.86zM5.41 20L4 18.59l7.72-7.72 1.47 1.35L5.41 20z\"/>\n",
              "  </svg>\n",
              "      </button>\n",
              "      \n",
              "  <style>\n",
              "    .colab-df-container {\n",
              "      display:flex;\n",
              "      flex-wrap:wrap;\n",
              "      gap: 12px;\n",
              "    }\n",
              "\n",
              "    .colab-df-convert {\n",
              "      background-color: #E8F0FE;\n",
              "      border: none;\n",
              "      border-radius: 50%;\n",
              "      cursor: pointer;\n",
              "      display: none;\n",
              "      fill: #1967D2;\n",
              "      height: 32px;\n",
              "      padding: 0 0 0 0;\n",
              "      width: 32px;\n",
              "    }\n",
              "\n",
              "    .colab-df-convert:hover {\n",
              "      background-color: #E2EBFA;\n",
              "      box-shadow: 0px 1px 2px rgba(60, 64, 67, 0.3), 0px 1px 3px 1px rgba(60, 64, 67, 0.15);\n",
              "      fill: #174EA6;\n",
              "    }\n",
              "\n",
              "    [theme=dark] .colab-df-convert {\n",
              "      background-color: #3B4455;\n",
              "      fill: #D2E3FC;\n",
              "    }\n",
              "\n",
              "    [theme=dark] .colab-df-convert:hover {\n",
              "      background-color: #434B5C;\n",
              "      box-shadow: 0px 1px 3px 1px rgba(0, 0, 0, 0.15);\n",
              "      filter: drop-shadow(0px 1px 2px rgba(0, 0, 0, 0.3));\n",
              "      fill: #FFFFFF;\n",
              "    }\n",
              "  </style>\n",
              "\n",
              "      <script>\n",
              "        const buttonEl =\n",
              "          document.querySelector('#df-37833434-4691-469d-af34-80bcf8533da8 button.colab-df-convert');\n",
              "        buttonEl.style.display =\n",
              "          google.colab.kernel.accessAllowed ? 'block' : 'none';\n",
              "\n",
              "        async function convertToInteractive(key) {\n",
              "          const element = document.querySelector('#df-37833434-4691-469d-af34-80bcf8533da8');\n",
              "          const dataTable =\n",
              "            await google.colab.kernel.invokeFunction('convertToInteractive',\n",
              "                                                     [key], {});\n",
              "          if (!dataTable) return;\n",
              "\n",
              "          const docLinkHtml = 'Like what you see? Visit the ' +\n",
              "            '<a target=\"_blank\" href=https://colab.research.google.com/notebooks/data_table.ipynb>data table notebook</a>'\n",
              "            + ' to learn more about interactive tables.';\n",
              "          element.innerHTML = '';\n",
              "          dataTable['output_type'] = 'display_data';\n",
              "          await google.colab.output.renderOutput(dataTable, element);\n",
              "          const docLink = document.createElement('div');\n",
              "          docLink.innerHTML = docLinkHtml;\n",
              "          element.appendChild(docLink);\n",
              "        }\n",
              "      </script>\n",
              "    </div>\n",
              "  </div>\n",
              "  "
            ]
          },
          "metadata": {},
          "execution_count": 59
        }
      ]
    },
    {
      "cell_type": "code",
      "source": [
        "x_train_res"
      ],
      "metadata": {
        "id": "xV4A4TepnOg6",
        "colab": {
          "base_uri": "https://localhost:8080/",
          "height": 423
        },
        "outputId": "c4ceb540-cd64-432c-f04b-660b76c219f2"
      },
      "id": "xV4A4TepnOg6",
      "execution_count": null,
      "outputs": [
        {
          "output_type": "execute_result",
          "data": {
            "text/plain": [
              "         step        amount  oldbalanceOrg  newbalanceDest  type_index\n",
              "0          15  1.807546e+04   4.914207e+05    0.000000e+00         1.0\n",
              "1          12  9.703400e+02   5.571454e+05    0.000000e+00         1.0\n",
              "2          18  4.369157e+04   1.071000e+03    6.311099e+06         0.0\n",
              "3         133  7.938980e+03   0.000000e+00    0.000000e+00         1.0\n",
              "4          18  1.220257e+05   6.097467e+05    2.789391e+05         0.0\n",
              "...       ...           ...            ...             ...         ...\n",
              "3222399    60  2.152074e+04   2.152074e+04    0.000000e+00         3.0\n",
              "3222400    36  9.404470e+04   6.990041e+03    3.700058e+05         0.0\n",
              "3222401    60  2.531419e+04   2.531419e+04    1.138790e+06         0.0\n",
              "3222402    83  1.135968e+05   1.135968e+05    1.135968e+05         0.0\n",
              "3222403    58  1.026239e+06   1.026239e+06    1.385047e+06         0.0\n",
              "\n",
              "[3222404 rows x 5 columns]"
            ],
            "text/html": [
              "\n",
              "  <div id=\"df-1e6244a4-e8b9-4d03-8797-bb4d52ebb15c\">\n",
              "    <div class=\"colab-df-container\">\n",
              "      <div>\n",
              "<style scoped>\n",
              "    .dataframe tbody tr th:only-of-type {\n",
              "        vertical-align: middle;\n",
              "    }\n",
              "\n",
              "    .dataframe tbody tr th {\n",
              "        vertical-align: top;\n",
              "    }\n",
              "\n",
              "    .dataframe thead th {\n",
              "        text-align: right;\n",
              "    }\n",
              "</style>\n",
              "<table border=\"1\" class=\"dataframe\">\n",
              "  <thead>\n",
              "    <tr style=\"text-align: right;\">\n",
              "      <th></th>\n",
              "      <th>step</th>\n",
              "      <th>amount</th>\n",
              "      <th>oldbalanceOrg</th>\n",
              "      <th>newbalanceDest</th>\n",
              "      <th>type_index</th>\n",
              "    </tr>\n",
              "  </thead>\n",
              "  <tbody>\n",
              "    <tr>\n",
              "      <th>0</th>\n",
              "      <td>15</td>\n",
              "      <td>1.807546e+04</td>\n",
              "      <td>4.914207e+05</td>\n",
              "      <td>0.000000e+00</td>\n",
              "      <td>1.0</td>\n",
              "    </tr>\n",
              "    <tr>\n",
              "      <th>1</th>\n",
              "      <td>12</td>\n",
              "      <td>9.703400e+02</td>\n",
              "      <td>5.571454e+05</td>\n",
              "      <td>0.000000e+00</td>\n",
              "      <td>1.0</td>\n",
              "    </tr>\n",
              "    <tr>\n",
              "      <th>2</th>\n",
              "      <td>18</td>\n",
              "      <td>4.369157e+04</td>\n",
              "      <td>1.071000e+03</td>\n",
              "      <td>6.311099e+06</td>\n",
              "      <td>0.0</td>\n",
              "    </tr>\n",
              "    <tr>\n",
              "      <th>3</th>\n",
              "      <td>133</td>\n",
              "      <td>7.938980e+03</td>\n",
              "      <td>0.000000e+00</td>\n",
              "      <td>0.000000e+00</td>\n",
              "      <td>1.0</td>\n",
              "    </tr>\n",
              "    <tr>\n",
              "      <th>4</th>\n",
              "      <td>18</td>\n",
              "      <td>1.220257e+05</td>\n",
              "      <td>6.097467e+05</td>\n",
              "      <td>2.789391e+05</td>\n",
              "      <td>0.0</td>\n",
              "    </tr>\n",
              "    <tr>\n",
              "      <th>...</th>\n",
              "      <td>...</td>\n",
              "      <td>...</td>\n",
              "      <td>...</td>\n",
              "      <td>...</td>\n",
              "      <td>...</td>\n",
              "    </tr>\n",
              "    <tr>\n",
              "      <th>3222399</th>\n",
              "      <td>60</td>\n",
              "      <td>2.152074e+04</td>\n",
              "      <td>2.152074e+04</td>\n",
              "      <td>0.000000e+00</td>\n",
              "      <td>3.0</td>\n",
              "    </tr>\n",
              "    <tr>\n",
              "      <th>3222400</th>\n",
              "      <td>36</td>\n",
              "      <td>9.404470e+04</td>\n",
              "      <td>6.990041e+03</td>\n",
              "      <td>3.700058e+05</td>\n",
              "      <td>0.0</td>\n",
              "    </tr>\n",
              "    <tr>\n",
              "      <th>3222401</th>\n",
              "      <td>60</td>\n",
              "      <td>2.531419e+04</td>\n",
              "      <td>2.531419e+04</td>\n",
              "      <td>1.138790e+06</td>\n",
              "      <td>0.0</td>\n",
              "    </tr>\n",
              "    <tr>\n",
              "      <th>3222402</th>\n",
              "      <td>83</td>\n",
              "      <td>1.135968e+05</td>\n",
              "      <td>1.135968e+05</td>\n",
              "      <td>1.135968e+05</td>\n",
              "      <td>0.0</td>\n",
              "    </tr>\n",
              "    <tr>\n",
              "      <th>3222403</th>\n",
              "      <td>58</td>\n",
              "      <td>1.026239e+06</td>\n",
              "      <td>1.026239e+06</td>\n",
              "      <td>1.385047e+06</td>\n",
              "      <td>0.0</td>\n",
              "    </tr>\n",
              "  </tbody>\n",
              "</table>\n",
              "<p>3222404 rows × 5 columns</p>\n",
              "</div>\n",
              "      <button class=\"colab-df-convert\" onclick=\"convertToInteractive('df-1e6244a4-e8b9-4d03-8797-bb4d52ebb15c')\"\n",
              "              title=\"Convert this dataframe to an interactive table.\"\n",
              "              style=\"display:none;\">\n",
              "        \n",
              "  <svg xmlns=\"http://www.w3.org/2000/svg\" height=\"24px\"viewBox=\"0 0 24 24\"\n",
              "       width=\"24px\">\n",
              "    <path d=\"M0 0h24v24H0V0z\" fill=\"none\"/>\n",
              "    <path d=\"M18.56 5.44l.94 2.06.94-2.06 2.06-.94-2.06-.94-.94-2.06-.94 2.06-2.06.94zm-11 1L8.5 8.5l.94-2.06 2.06-.94-2.06-.94L8.5 2.5l-.94 2.06-2.06.94zm10 10l.94 2.06.94-2.06 2.06-.94-2.06-.94-.94-2.06-.94 2.06-2.06.94z\"/><path d=\"M17.41 7.96l-1.37-1.37c-.4-.4-.92-.59-1.43-.59-.52 0-1.04.2-1.43.59L10.3 9.45l-7.72 7.72c-.78.78-.78 2.05 0 2.83L4 21.41c.39.39.9.59 1.41.59.51 0 1.02-.2 1.41-.59l7.78-7.78 2.81-2.81c.8-.78.8-2.07 0-2.86zM5.41 20L4 18.59l7.72-7.72 1.47 1.35L5.41 20z\"/>\n",
              "  </svg>\n",
              "      </button>\n",
              "      \n",
              "  <style>\n",
              "    .colab-df-container {\n",
              "      display:flex;\n",
              "      flex-wrap:wrap;\n",
              "      gap: 12px;\n",
              "    }\n",
              "\n",
              "    .colab-df-convert {\n",
              "      background-color: #E8F0FE;\n",
              "      border: none;\n",
              "      border-radius: 50%;\n",
              "      cursor: pointer;\n",
              "      display: none;\n",
              "      fill: #1967D2;\n",
              "      height: 32px;\n",
              "      padding: 0 0 0 0;\n",
              "      width: 32px;\n",
              "    }\n",
              "\n",
              "    .colab-df-convert:hover {\n",
              "      background-color: #E2EBFA;\n",
              "      box-shadow: 0px 1px 2px rgba(60, 64, 67, 0.3), 0px 1px 3px 1px rgba(60, 64, 67, 0.15);\n",
              "      fill: #174EA6;\n",
              "    }\n",
              "\n",
              "    [theme=dark] .colab-df-convert {\n",
              "      background-color: #3B4455;\n",
              "      fill: #D2E3FC;\n",
              "    }\n",
              "\n",
              "    [theme=dark] .colab-df-convert:hover {\n",
              "      background-color: #434B5C;\n",
              "      box-shadow: 0px 1px 3px 1px rgba(0, 0, 0, 0.15);\n",
              "      filter: drop-shadow(0px 1px 2px rgba(0, 0, 0, 0.3));\n",
              "      fill: #FFFFFF;\n",
              "    }\n",
              "  </style>\n",
              "\n",
              "      <script>\n",
              "        const buttonEl =\n",
              "          document.querySelector('#df-1e6244a4-e8b9-4d03-8797-bb4d52ebb15c button.colab-df-convert');\n",
              "        buttonEl.style.display =\n",
              "          google.colab.kernel.accessAllowed ? 'block' : 'none';\n",
              "\n",
              "        async function convertToInteractive(key) {\n",
              "          const element = document.querySelector('#df-1e6244a4-e8b9-4d03-8797-bb4d52ebb15c');\n",
              "          const dataTable =\n",
              "            await google.colab.kernel.invokeFunction('convertToInteractive',\n",
              "                                                     [key], {});\n",
              "          if (!dataTable) return;\n",
              "\n",
              "          const docLinkHtml = 'Like what you see? Visit the ' +\n",
              "            '<a target=\"_blank\" href=https://colab.research.google.com/notebooks/data_table.ipynb>data table notebook</a>'\n",
              "            + ' to learn more about interactive tables.';\n",
              "          element.innerHTML = '';\n",
              "          dataTable['output_type'] = 'display_data';\n",
              "          await google.colab.output.renderOutput(dataTable, element);\n",
              "          const docLink = document.createElement('div');\n",
              "          docLink.innerHTML = docLinkHtml;\n",
              "          element.appendChild(docLink);\n",
              "        }\n",
              "      </script>\n",
              "    </div>\n",
              "  </div>\n",
              "  "
            ]
          },
          "metadata": {},
          "execution_count": 60
        }
      ]
    },
    {
      "cell_type": "code",
      "source": [
        "dataframe_1 = pd.DataFrame(x_train_res,columns=['step','amount','oldbalanceOrg','newbalanceDest','type_index'])\n",
        "dataframe_2 = pd.DataFrame(y_train_res, columns = ['isFraud'])\n",
        "# frames = [dataframe_1, dataframe_2]\n",
        "#concatener les deux données \n",
        "result = dataframe_1.combine_first(dataframe_2)"
      ],
      "metadata": {
        "id": "5ugXKMtmnOdo"
      },
      "id": "5ugXKMtmnOdo",
      "execution_count": null,
      "outputs": []
    },
    {
      "cell_type": "code",
      "source": [
        "dff = spark.createDataFrame(result)\n"
      ],
      "metadata": {
        "id": "39CTLFYQnOaQ"
      },
      "id": "39CTLFYQnOaQ",
      "execution_count": null,
      "outputs": []
    },
    {
      "cell_type": "code",
      "source": [
        "from pyspark.sql.functions import col\n",
        "from pyspark.sql.types import IntegerType\n",
        "from pyspark.ml.feature import Binarizer\n",
        "\n",
        "from pyspark.sql.functions import col\n",
        "from pyspark.sql.types import DoubleType\n",
        "\n",
        "# Convert 'isFraud' column to DoubleType\n",
        "dff = dff.withColumn('isFraud', col('isFraud').cast(DoubleType()))\n",
        "\n",
        "# Apply Binarizer transformation\n",
        "binarizer = Binarizer(threshold=0.0, inputCol='isFraud', outputCol='label')\n",
        "binarizedDF = binarizer.transform(dff)\n"
      ],
      "metadata": {
        "id": "lWhlwPIZnOXf"
      },
      "id": "lWhlwPIZnOXf",
      "execution_count": null,
      "outputs": []
    },
    {
      "cell_type": "code",
      "source": [
        "from pyspark.ml.feature import OneHotEncoder, VectorAssembler, StringIndexer, VectorIndexer\n",
        "# utiliser VectorAssembler pour regrouper les features comme étant un seul vecteur nommé features \n",
        "assembler = VectorAssembler(inputCols = ['step','amount','oldbalanceOrg','newbalanceDest','type_index'], outputCol = 'features')\n",
        "assembled = assembler.transform(binarizedDF)\n",
        "print(assembled)"
      ],
      "metadata": {
        "id": "Z0eMjyxMnOUv",
        "colab": {
          "base_uri": "https://localhost:8080/"
        },
        "outputId": "ef7c17c6-de4b-4985-909b-c04ca053e79a"
      },
      "id": "Z0eMjyxMnOUv",
      "execution_count": null,
      "outputs": [
        {
          "output_type": "stream",
          "name": "stdout",
          "text": [
            "DataFrame[amount: double, isFraud: double, newbalanceDest: double, oldbalanceOrg: double, step: bigint, type_index: double, label: double, features: vector]\n"
          ]
        }
      ]
    },
    {
      "cell_type": "code",
      "source": [
        "#rediviser les données (70% ==> Train et 30% ==> Test)\n",
        "(trainingData, testData) = assembled.randomSplit([0.7, 0.3], seed=0)\n",
        "print('Distribution of Ones and Zeros in trainingData is: ', trainingData.groupBy('label').count().take(3))"
      ],
      "metadata": {
        "id": "JlyBxJeLnOSC",
        "colab": {
          "base_uri": "https://localhost:8080/"
        },
        "outputId": "0c09507a-511f-4997-e3bd-72f810d9daf1"
      },
      "id": "JlyBxJeLnOSC",
      "execution_count": null,
      "outputs": [
        {
          "output_type": "stream",
          "name": "stdout",
          "text": [
            "Distribution of Ones and Zeros in trainingData is:  [Row(label=0.0, count=523537), Row(label=1.0, count=523941)]\n"
          ]
        }
      ]
    },
    {
      "cell_type": "code",
      "source": [
        "trainingData.count()"
      ],
      "metadata": {
        "id": "zTqHkTPknOOz",
        "colab": {
          "base_uri": "https://localhost:8080/"
        },
        "outputId": "b39231ef-fc53-459f-86f4-586df11dadbe"
      },
      "id": "zTqHkTPknOOz",
      "execution_count": null,
      "outputs": [
        {
          "output_type": "execute_result",
          "data": {
            "text/plain": [
              "1047478"
            ]
          },
          "metadata": {},
          "execution_count": 56
        }
      ]
    },
    {
      "cell_type": "code",
      "source": [
        "testData.count()"
      ],
      "metadata": {
        "id": "LjXhsrpTnOMQ",
        "colab": {
          "base_uri": "https://localhost:8080/"
        },
        "outputId": "8f10c14d-6147-4ac0-bb2a-f2324bea67bb"
      },
      "id": "LjXhsrpTnOMQ",
      "execution_count": null,
      "outputs": [
        {
          "output_type": "execute_result",
          "data": {
            "text/plain": [
              "449324"
            ]
          },
          "metadata": {},
          "execution_count": 57
        }
      ]
    },
    {
      "cell_type": "markdown",
      "source": [
        "Decision Tree"
      ],
      "metadata": {
        "id": "aNNGLKixPaoA"
      },
      "id": "aNNGLKixPaoA"
    },
    {
      "cell_type": "code",
      "source": [
        "from pyspark.ml.classification import DecisionTreeClassifier\n",
        "from pyspark.ml.classification import LogisticRegression\n",
        "from pyspark.ml import Pipeline\n",
        "# Instanciation de l'arbre de décision de profondeur maximale de 25 \n",
        "dt = DecisionTreeClassifier(labelCol=\"label\", featuresCol=\"features\", maxDepth=25, impurity=\"gini\")\n",
        "pipeline = Pipeline(stages=[dt])\n",
        "model = pipeline.fit(trainingData)"
      ],
      "metadata": {
        "id": "unalazIfnOIJ"
      },
      "id": "unalazIfnOIJ",
      "execution_count": null,
      "outputs": []
    },
    {
      "cell_type": "code",
      "source": [
        "predictions = model.transform(testData)\n"
      ],
      "metadata": {
        "id": "OaVotBUrnOEW"
      },
      "id": "OaVotBUrnOEW",
      "execution_count": null,
      "outputs": []
    },
    {
      "cell_type": "code",
      "source": [
        "\n",
        "from pyspark.ml.evaluation import MulticlassClassificationEvaluator\n",
        "\n",
        "evaluator = MulticlassClassificationEvaluator(labelCol=\"label\", predictionCol=\"prediction\", metricName=\"accuracy\")\n",
        "# Accuracy mesure la proportion d'exemples correctement prédits par rapport à l'ensemble total des exemples.\n",
        "\n",
        "accuracy = evaluator.evaluate(predictions)\n"
      ],
      "metadata": {
        "id": "DOyqbj76HZgK"
      },
      "id": "DOyqbj76HZgK",
      "execution_count": null,
      "outputs": []
    },
    {
      "cell_type": "code",
      "source": [
        "# Ajout les métriques de chaque algorithme pour une comparaison ultérieure \n",
        "evaluator.setMetricName(\"weightedRecall\")\n",
        "\n",
        "# Calculer recall qui est une mesure de la capacité du modèle à identifier tous les exemples positifs (vrais positifs) dans notre jeu de données \n",
        "recall = evaluator.evaluate(predictions)\n",
        "evaluator.setMetricName(\"f1\")\n",
        "# calculer F1-score ==> Il est calculé en prenant la moyenne harmonique de la précision et du rappel\n",
        "f1_score = evaluator.evaluate(predictions)\n",
        "print(accuracy)\n",
        "print(recall)\n",
        "print(f1_score)"
      ],
      "metadata": {
        "id": "Pk73KheBFbL0",
        "colab": {
          "base_uri": "https://localhost:8080/"
        },
        "outputId": "e983f49f-24d4-4ad0-dae7-f8b4dc0e35fa"
      },
      "id": "Pk73KheBFbL0",
      "execution_count": null,
      "outputs": [
        {
          "output_type": "stream",
          "name": "stdout",
          "text": [
            "0.9908840836456544\n",
            "0.9908840836456543\n",
            "0.9908838975786006\n"
          ]
        }
      ]
    },
    {
      "cell_type": "code",
      "source": [
        "metric={}\n",
        "metric['Decision Tree'] = [accuracy, recall, f1_score]\n"
      ],
      "metadata": {
        "id": "m4fHs2gYV7ik"
      },
      "id": "m4fHs2gYV7ik",
      "execution_count": null,
      "outputs": []
    },
    {
      "cell_type": "markdown",
      "source": [
        "Logistic Regression"
      ],
      "metadata": {
        "id": "GqS_K2Q8WLPb"
      },
      "id": "GqS_K2Q8WLPb"
    },
    {
      "cell_type": "code",
      "source": [
        "from pyspark.ml.classification import LogisticRegression\n",
        "#Create a Logistic Regression classifier.\n",
        "logistic = LogisticRegression(labelCol = \"label\", featuresCol = \"features\")\n",
        "# Learn from the training data.\n",
        "lrModel = logistic.fit(trainingData)"
      ],
      "metadata": {
        "id": "YGjstlUqWOyT"
      },
      "id": "YGjstlUqWOyT",
      "execution_count": null,
      "outputs": []
    },
    {
      "cell_type": "code",
      "source": [
        "prediction_LR = lrModel.transform(testData)\n"
      ],
      "metadata": {
        "id": "0in_HVUxWd5E"
      },
      "id": "0in_HVUxWd5E",
      "execution_count": null,
      "outputs": []
    },
    {
      "cell_type": "code",
      "source": [
        "evaluator = MulticlassClassificationEvaluator(labelCol=\"label\", predictionCol=\"prediction\", metricName=\"accuracy\")\n",
        "\n",
        "accuracy_LR = evaluator.evaluate(prediction_LR)\n",
        "print(accuracy_LR)\n",
        "evaluator.setMetricName(\"weightedRecall\")\n",
        "recall_LR = evaluator.evaluate(prediction_LR)\n",
        "evaluator.setMetricName(\"f1\")\n",
        "f1_score_LR = evaluator.evaluate(prediction_LR)\n",
        "\n",
        "print(recall_LR)\n",
        "print(f1_score_LR)"
      ],
      "metadata": {
        "colab": {
          "base_uri": "https://localhost:8080/"
        },
        "id": "OyYYqpbXWrQG",
        "outputId": "ab8e7531-7700-4856-c4a6-13efd5270923"
      },
      "id": "OyYYqpbXWrQG",
      "execution_count": null,
      "outputs": [
        {
          "output_type": "stream",
          "name": "stdout",
          "text": [
            "0.7297918651129252\n",
            "0.7297918651129252\n",
            "0.7269885687242703\n"
          ]
        }
      ]
    },
    {
      "cell_type": "code",
      "source": [
        "metric['Logistic Regression'] = [accuracy_LR, recall_LR, f1_score_LR]\n"
      ],
      "metadata": {
        "id": "q_wN8b7Fu1NF"
      },
      "id": "q_wN8b7Fu1NF",
      "execution_count": null,
      "outputs": []
    },
    {
      "cell_type": "markdown",
      "source": [
        "SVM"
      ],
      "metadata": {
        "id": "u6SBXq6mxkcx"
      },
      "id": "u6SBXq6mxkcx"
    },
    {
      "cell_type": "code",
      "source": [],
      "metadata": {
        "id": "9xCPsYNg77dQ"
      },
      "id": "9xCPsYNg77dQ",
      "execution_count": null,
      "outputs": []
    },
    {
      "cell_type": "code",
      "source": [
        "\n",
        "from pyspark.ml.classification import LinearSVC"
      ],
      "metadata": {
        "id": "iFpEOWeDzMjH"
      },
      "id": "iFpEOWeDzMjH",
      "execution_count": null,
      "outputs": []
    },
    {
      "cell_type": "code",
      "source": [
        "# Create an instance of the LinearSVC classifier\n",
        "svm = LinearSVC(labelCol=\"label\", featuresCol=\"features\")\n",
        "\n",
        "# Train the model\n",
        "svm_model = svm.fit(trainingData)"
      ],
      "metadata": {
        "id": "zXyfiq2RzXN_"
      },
      "id": "zXyfiq2RzXN_",
      "execution_count": null,
      "outputs": []
    },
    {
      "cell_type": "code",
      "source": [
        "prediction_SVM = svm_model.transform(testData)\n",
        "evaluator = MulticlassClassificationEvaluator(labelCol=\"label\", predictionCol=\"prediction\", metricName=\"accuracy\")\n",
        "\n",
        "accuracy_SVM = evaluator.evaluate(prediction_SVM)\n",
        "print(accuracy_SVM)\n",
        "evaluator.setMetricName(\"weightedRecall\")\n",
        "recall_SVM = evaluator.evaluate(prediction_SVM)\n",
        "evaluator.setMetricName(\"f1\")\n",
        "f1_score_SVM = evaluator.evaluate(prediction_SVM)\n",
        "\n",
        "print(recall_SVM)\n",
        "print(f1_score_SVM)"
      ],
      "metadata": {
        "id": "wxEIPOLCzDMd",
        "colab": {
          "base_uri": "https://localhost:8080/"
        },
        "outputId": "9c20a169-815c-4a2e-bbf7-569d086169ae"
      },
      "id": "wxEIPOLCzDMd",
      "execution_count": null,
      "outputs": [
        {
          "output_type": "stream",
          "name": "stdout",
          "text": [
            "0.7323534910220687\n",
            "0.7323534910220687\n",
            "0.7288758629429777\n"
          ]
        }
      ]
    },
    {
      "cell_type": "code",
      "source": [
        "metric['SVM'] = [accuracy_SVM, recall_SVM, f1_score_SVM]\n"
      ],
      "metadata": {
        "id": "NX6ySGl_smCy"
      },
      "id": "NX6ySGl_smCy",
      "execution_count": null,
      "outputs": []
    },
    {
      "cell_type": "markdown",
      "source": [
        "**XGBoost**\n"
      ],
      "metadata": {
        "id": "0uFWiakKrQ0q"
      },
      "id": "0uFWiakKrQ0q"
    },
    {
      "cell_type": "code",
      "source": [
        "pip install sparkxgb\n"
      ],
      "metadata": {
        "colab": {
          "base_uri": "https://localhost:8080/",
          "height": 628
        },
        "id": "FUVE5xfSrYGZ",
        "outputId": "59dace00-56b8-4cfc-a8e1-4647c46eef8e"
      },
      "id": "FUVE5xfSrYGZ",
      "execution_count": null,
      "outputs": [
        {
          "output_type": "stream",
          "name": "stdout",
          "text": [
            "Looking in indexes: https://pypi.org/simple, https://us-python.pkg.dev/colab-wheels/public/simple/\n",
            "Collecting sparkxgb\n",
            "  Downloading sparkxgb-0.1.tar.gz (3.6 kB)\n",
            "  Preparing metadata (setup.py) ... \u001b[?25l\u001b[?25hdone\n",
            "Collecting pyspark==3.1.1 (from sparkxgb)\n",
            "  Downloading pyspark-3.1.1.tar.gz (212.3 MB)\n",
            "\u001b[2K     \u001b[90m━━━━━━━━━━━━━━━━━━━━━━━━━━━━━━━━━━━━━━━\u001b[0m \u001b[32m212.3/212.3 MB\u001b[0m \u001b[31m3.4 MB/s\u001b[0m eta \u001b[36m0:00:00\u001b[0m\n",
            "\u001b[?25h  Preparing metadata (setup.py) ... \u001b[?25l\u001b[?25hdone\n",
            "Collecting py4j==0.10.9 (from pyspark==3.1.1->sparkxgb)\n",
            "  Downloading py4j-0.10.9-py2.py3-none-any.whl (198 kB)\n",
            "\u001b[2K     \u001b[90m━━━━━━━━━━━━━━━━━━━━━━━━━━━━━━━━━━━━━━\u001b[0m \u001b[32m198.6/198.6 kB\u001b[0m \u001b[31m22.5 MB/s\u001b[0m eta \u001b[36m0:00:00\u001b[0m\n",
            "\u001b[?25hBuilding wheels for collected packages: sparkxgb, pyspark\n",
            "  Building wheel for sparkxgb (setup.py) ... \u001b[?25l\u001b[?25hdone\n",
            "  Created wheel for sparkxgb: filename=sparkxgb-0.1-py3-none-any.whl size=5630 sha256=3956bc22e5eb3fc53962cc74f735d1e728c63e28d4ff09ad7b876908ee594e1f\n",
            "  Stored in directory: /root/.cache/pip/wheels/b7/0c/a1/786408e13056fabeb8a72134e101b1e142fc95905c7b0e2a71\n",
            "  Building wheel for pyspark (setup.py) ... \u001b[?25l\u001b[?25hdone\n",
            "  Created wheel for pyspark: filename=pyspark-3.1.1-py2.py3-none-any.whl size=212767590 sha256=64e519e8498bbaeabde96fdfab3c2d197d9428b1a9f266a513f92beb6343d1a1\n",
            "  Stored in directory: /root/.cache/pip/wheels/a0/3f/72/8efd988f9ae041f051c75e6834cd92dd6d13a726e206e8b6f3\n",
            "Successfully built sparkxgb pyspark\n",
            "Installing collected packages: py4j, pyspark, sparkxgb\n",
            "  Attempting uninstall: py4j\n",
            "    Found existing installation: py4j 0.10.9.7\n",
            "    Uninstalling py4j-0.10.9.7:\n",
            "      Successfully uninstalled py4j-0.10.9.7\n",
            "  Attempting uninstall: pyspark\n",
            "    Found existing installation: pyspark 3.4.0\n",
            "    Uninstalling pyspark-3.4.0:\n",
            "      Successfully uninstalled pyspark-3.4.0\n",
            "Successfully installed py4j-0.10.9 pyspark-3.1.1 sparkxgb-0.1\n"
          ]
        },
        {
          "output_type": "display_data",
          "data": {
            "application/vnd.colab-display-data+json": {
              "pip_warning": {
                "packages": [
                  "py4j",
                  "pyspark"
                ]
              }
            }
          },
          "metadata": {}
        }
      ]
    },
    {
      "cell_type": "code",
      "source": [
        "from sparkxgb.xgboost import XGBoostClassifier\n"
      ],
      "metadata": {
        "id": "jwS7KYhsqO-m"
      },
      "id": "jwS7KYhsqO-m",
      "execution_count": null,
      "outputs": []
    },
    {
      "cell_type": "code",
      "source": [
        "from pyspark.ml.classification import GBTClassifier\n",
        "\n",
        "# Instancier GBTClassifier en spécifiant le nombre des arbres = 10\n",
        "gbt = GBTClassifier(labelCol=\"label\", featuresCol=\"features\", maxIter=10)\n",
        "\n",
        "# Entrainer le modèle  \n",
        "gbt_model = gbt.fit(trainingData)"
      ],
      "metadata": {
        "id": "9G_8tQ2CrUpR"
      },
      "id": "9G_8tQ2CrUpR",
      "execution_count": null,
      "outputs": []
    },
    {
      "cell_type": "code",
      "source": [
        "# prédictions ....\n",
        "prediction_GBT = gbt_model.transform(testData)\n",
        "evaluator = MulticlassClassificationEvaluator(labelCol=\"label\", predictionCol=\"prediction\", metricName=\"accuracy\")\n",
        "\n",
        "accuracy_GBT = evaluator.evaluate(prediction_GBT)\n",
        "print(accuracy_GBT)\n",
        "evaluator.setMetricName(\"weightedRecall\")\n",
        "recall_GBT = evaluator.evaluate(prediction_GBT)\n",
        "evaluator.setMetricName(\"f1\")\n",
        "f1_score_GBT = evaluator.evaluate(prediction_GBT)\n",
        "\n",
        "print(recall_GBT)\n",
        "print(f1_score_GBT)"
      ],
      "metadata": {
        "colab": {
          "base_uri": "https://localhost:8080/"
        },
        "id": "SOw9PcvurvG6",
        "outputId": "720ff9f3-5df4-4fb0-bd25-d3a3bee3f80e"
      },
      "id": "SOw9PcvurvG6",
      "execution_count": null,
      "outputs": [
        {
          "output_type": "stream",
          "name": "stdout",
          "text": [
            "0.9483245942794064\n",
            "0.9483245942794064\n",
            "0.9482965158854116\n"
          ]
        }
      ]
    },
    {
      "cell_type": "code",
      "source": [
        "metric['XGBoost'] = [accuracy_GBT, recall_GBT, f1_score_GBT]\n"
      ],
      "metadata": {
        "id": "Q7-oF5VztDa2"
      },
      "id": "Q7-oF5VztDa2",
      "execution_count": null,
      "outputs": []
    },
    {
      "cell_type": "markdown",
      "source": [
        "Naive Bayes"
      ],
      "metadata": {
        "id": "p7KakzfvtVlz"
      },
      "id": "p7KakzfvtVlz"
    },
    {
      "cell_type": "code",
      "source": [
        "from pyspark.ml.classification import NaiveBayes\n",
        "#Instanciation \n",
        "#smoothing : controle le lissage utilisé pour éviter les probabilités nulles lors de l'estimation \n",
        "# spécifions le type du modèle qui Bernoulli utilisé dans la classification binaire  \n",
        "nb = NaiveBayes(labelCol=\"label\", featuresCol=\"features\", smoothing=1.0, modelType=\"bernoulli\")\n",
        "\n",
        "# train the model\n",
        "nb_model = nb.fit(trainingData)\n",
        "prediction_NB = nb_model.transform(testData)\n",
        "accuracy_NB = evaluator.evaluate(prediction_NB)\n",
        "print(accuracy_NB)\n",
        "evaluator.setMetricName(\"weightedRecall\")\n",
        "recall_NB = evaluator.evaluate(prediction_NB)\n",
        "evaluator.setMetricName(\"f1\")\n",
        "f1_score_NB = evaluator.evaluate(prediction_NB)\n",
        "\n",
        "print(recall_NB)\n",
        "print(f1_score_NB)\n"
      ],
      "metadata": {
        "colab": {
          "base_uri": "https://localhost:8080/"
        },
        "id": "OY4NaSyetQv1",
        "outputId": "200d4067-1c7d-4540-da7e-43c97e32fa6b"
      },
      "id": "OY4NaSyetQv1",
      "execution_count": null,
      "outputs": [
        {
          "output_type": "stream",
          "name": "stdout",
          "text": [
            "0.6672894561089868\n",
            "0.6762247287035636\n",
            "0.6672894561089868\n"
          ]
        }
      ]
    },
    {
      "cell_type": "code",
      "source": [
        "metric['Naive Bayes'] = [accuracy_NB, recall_NB, f1_score_NB]\n"
      ],
      "metadata": {
        "id": "_3BH60hYtyDd"
      },
      "id": "_3BH60hYtyDd",
      "execution_count": null,
      "outputs": []
    },
    {
      "cell_type": "markdown",
      "source": [
        "Random Forest"
      ],
      "metadata": {
        "id": "oT9gaODuuqjs"
      },
      "id": "oT9gaODuuqjs"
    },
    {
      "cell_type": "code",
      "source": [
        "from pyspark.ml.classification import RandomForestClassifier\n",
        "\n",
        "rf = RandomForestClassifier(labelCol=\"label\", featuresCol=\"features\", numTrees=10)\n",
        "rf_model = rf.fit(trainingData)\n",
        "prediction_RF = rf_model.transform(testData)\n",
        "accuracy_RF = evaluator.evaluate(prediction_RF)\n",
        "print(accuracy_RF)\n",
        "evaluator.setMetricName(\"weightedRecall\")\n",
        "recall_RF = evaluator.evaluate(prediction_RF)\n",
        "evaluator.setMetricName(\"f1\")\n",
        "f1_score_RF = evaluator.evaluate(prediction_RF)\n",
        "print(recall_RF)\n",
        "print(f1_score_RF)\n"
      ],
      "metadata": {
        "colab": {
          "base_uri": "https://localhost:8080/"
        },
        "id": "6OhB3wd5utKC",
        "outputId": "4a30abe2-172e-4a50-d5c8-af9300d0dc67"
      },
      "id": "6OhB3wd5utKC",
      "execution_count": null,
      "outputs": [
        {
          "output_type": "stream",
          "name": "stdout",
          "text": [
            "0.9004771628926265\n",
            "0.9008443795568455\n",
            "0.9004771628926265\n"
          ]
        }
      ]
    },
    {
      "cell_type": "code",
      "source": [
        "metric['Random Forest'] = [accuracy_RF, recall_RF, f1_score_RF]\n"
      ],
      "metadata": {
        "id": "J3TRoBmMvdD-"
      },
      "id": "J3TRoBmMvdD-",
      "execution_count": null,
      "outputs": []
    },
    {
      "cell_type": "code",
      "source": [
        "metrics = pd.DataFrame.from_dict(metric, orient='index',\n",
        "                       columns=['Precision', 'recall', 'F1 Score'])"
      ],
      "metadata": {
        "id": "CVfWzwdgugX8"
      },
      "id": "CVfWzwdgugX8",
      "execution_count": null,
      "outputs": []
    },
    {
      "cell_type": "code",
      "source": [
        "metrics"
      ],
      "metadata": {
        "colab": {
          "base_uri": "https://localhost:8080/",
          "height": 237
        },
        "id": "hXwlae81wJSI",
        "outputId": "030e7241-61ae-4172-a975-bbea0a5eecb9"
      },
      "id": "hXwlae81wJSI",
      "execution_count": null,
      "outputs": [
        {
          "output_type": "execute_result",
          "data": {
            "text/plain": [
              "                     Precision    recall  F1 Score\n",
              "Decision Tree         0.990884  0.990884  0.990884\n",
              "Logistic Regression   0.729792  0.729792  0.726989\n",
              "SVM                   0.732353  0.732353  0.728876\n",
              "XGBoost               0.948325  0.948325  0.948297\n",
              "Naive Bayes           0.667289  0.676225  0.667289\n",
              "Random Forest         0.900477  0.900844  0.900477"
            ],
            "text/html": [
              "\n",
              "  <div id=\"df-4a57fec5-98c0-47cc-9094-42976e86cf13\">\n",
              "    <div class=\"colab-df-container\">\n",
              "      <div>\n",
              "<style scoped>\n",
              "    .dataframe tbody tr th:only-of-type {\n",
              "        vertical-align: middle;\n",
              "    }\n",
              "\n",
              "    .dataframe tbody tr th {\n",
              "        vertical-align: top;\n",
              "    }\n",
              "\n",
              "    .dataframe thead th {\n",
              "        text-align: right;\n",
              "    }\n",
              "</style>\n",
              "<table border=\"1\" class=\"dataframe\">\n",
              "  <thead>\n",
              "    <tr style=\"text-align: right;\">\n",
              "      <th></th>\n",
              "      <th>Precision</th>\n",
              "      <th>recall</th>\n",
              "      <th>F1 Score</th>\n",
              "    </tr>\n",
              "  </thead>\n",
              "  <tbody>\n",
              "    <tr>\n",
              "      <th>Decision Tree</th>\n",
              "      <td>0.990884</td>\n",
              "      <td>0.990884</td>\n",
              "      <td>0.990884</td>\n",
              "    </tr>\n",
              "    <tr>\n",
              "      <th>Logistic Regression</th>\n",
              "      <td>0.729792</td>\n",
              "      <td>0.729792</td>\n",
              "      <td>0.726989</td>\n",
              "    </tr>\n",
              "    <tr>\n",
              "      <th>SVM</th>\n",
              "      <td>0.732353</td>\n",
              "      <td>0.732353</td>\n",
              "      <td>0.728876</td>\n",
              "    </tr>\n",
              "    <tr>\n",
              "      <th>XGBoost</th>\n",
              "      <td>0.948325</td>\n",
              "      <td>0.948325</td>\n",
              "      <td>0.948297</td>\n",
              "    </tr>\n",
              "    <tr>\n",
              "      <th>Naive Bayes</th>\n",
              "      <td>0.667289</td>\n",
              "      <td>0.676225</td>\n",
              "      <td>0.667289</td>\n",
              "    </tr>\n",
              "    <tr>\n",
              "      <th>Random Forest</th>\n",
              "      <td>0.900477</td>\n",
              "      <td>0.900844</td>\n",
              "      <td>0.900477</td>\n",
              "    </tr>\n",
              "  </tbody>\n",
              "</table>\n",
              "</div>\n",
              "      <button class=\"colab-df-convert\" onclick=\"convertToInteractive('df-4a57fec5-98c0-47cc-9094-42976e86cf13')\"\n",
              "              title=\"Convert this dataframe to an interactive table.\"\n",
              "              style=\"display:none;\">\n",
              "        \n",
              "  <svg xmlns=\"http://www.w3.org/2000/svg\" height=\"24px\"viewBox=\"0 0 24 24\"\n",
              "       width=\"24px\">\n",
              "    <path d=\"M0 0h24v24H0V0z\" fill=\"none\"/>\n",
              "    <path d=\"M18.56 5.44l.94 2.06.94-2.06 2.06-.94-2.06-.94-.94-2.06-.94 2.06-2.06.94zm-11 1L8.5 8.5l.94-2.06 2.06-.94-2.06-.94L8.5 2.5l-.94 2.06-2.06.94zm10 10l.94 2.06.94-2.06 2.06-.94-2.06-.94-.94-2.06-.94 2.06-2.06.94z\"/><path d=\"M17.41 7.96l-1.37-1.37c-.4-.4-.92-.59-1.43-.59-.52 0-1.04.2-1.43.59L10.3 9.45l-7.72 7.72c-.78.78-.78 2.05 0 2.83L4 21.41c.39.39.9.59 1.41.59.51 0 1.02-.2 1.41-.59l7.78-7.78 2.81-2.81c.8-.78.8-2.07 0-2.86zM5.41 20L4 18.59l7.72-7.72 1.47 1.35L5.41 20z\"/>\n",
              "  </svg>\n",
              "      </button>\n",
              "      \n",
              "  <style>\n",
              "    .colab-df-container {\n",
              "      display:flex;\n",
              "      flex-wrap:wrap;\n",
              "      gap: 12px;\n",
              "    }\n",
              "\n",
              "    .colab-df-convert {\n",
              "      background-color: #E8F0FE;\n",
              "      border: none;\n",
              "      border-radius: 50%;\n",
              "      cursor: pointer;\n",
              "      display: none;\n",
              "      fill: #1967D2;\n",
              "      height: 32px;\n",
              "      padding: 0 0 0 0;\n",
              "      width: 32px;\n",
              "    }\n",
              "\n",
              "    .colab-df-convert:hover {\n",
              "      background-color: #E2EBFA;\n",
              "      box-shadow: 0px 1px 2px rgba(60, 64, 67, 0.3), 0px 1px 3px 1px rgba(60, 64, 67, 0.15);\n",
              "      fill: #174EA6;\n",
              "    }\n",
              "\n",
              "    [theme=dark] .colab-df-convert {\n",
              "      background-color: #3B4455;\n",
              "      fill: #D2E3FC;\n",
              "    }\n",
              "\n",
              "    [theme=dark] .colab-df-convert:hover {\n",
              "      background-color: #434B5C;\n",
              "      box-shadow: 0px 1px 3px 1px rgba(0, 0, 0, 0.15);\n",
              "      filter: drop-shadow(0px 1px 2px rgba(0, 0, 0, 0.3));\n",
              "      fill: #FFFFFF;\n",
              "    }\n",
              "  </style>\n",
              "\n",
              "      <script>\n",
              "        const buttonEl =\n",
              "          document.querySelector('#df-4a57fec5-98c0-47cc-9094-42976e86cf13 button.colab-df-convert');\n",
              "        buttonEl.style.display =\n",
              "          google.colab.kernel.accessAllowed ? 'block' : 'none';\n",
              "\n",
              "        async function convertToInteractive(key) {\n",
              "          const element = document.querySelector('#df-4a57fec5-98c0-47cc-9094-42976e86cf13');\n",
              "          const dataTable =\n",
              "            await google.colab.kernel.invokeFunction('convertToInteractive',\n",
              "                                                     [key], {});\n",
              "          if (!dataTable) return;\n",
              "\n",
              "          const docLinkHtml = 'Like what you see? Visit the ' +\n",
              "            '<a target=\"_blank\" href=https://colab.research.google.com/notebooks/data_table.ipynb>data table notebook</a>'\n",
              "            + ' to learn more about interactive tables.';\n",
              "          element.innerHTML = '';\n",
              "          dataTable['output_type'] = 'display_data';\n",
              "          await google.colab.output.renderOutput(dataTable, element);\n",
              "          const docLink = document.createElement('div');\n",
              "          docLink.innerHTML = docLinkHtml;\n",
              "          element.appendChild(docLink);\n",
              "        }\n",
              "      </script>\n",
              "    </div>\n",
              "  </div>\n",
              "  "
            ]
          },
          "metadata": {},
          "execution_count": 97
        }
      ]
    },
    {
      "cell_type": "code",
      "source": [],
      "metadata": {
        "id": "D7MDtTuYwQ1U"
      },
      "id": "D7MDtTuYwQ1U",
      "execution_count": null,
      "outputs": []
    }
  ],
  "metadata": {
    "kernelspec": {
      "display_name": "Python 3 (ipykernel)",
      "language": "python",
      "name": "python3"
    },
    "language_info": {
      "codemirror_mode": {
        "name": "ipython",
        "version": 3
      },
      "file_extension": ".py",
      "mimetype": "text/x-python",
      "name": "python",
      "nbconvert_exporter": "python",
      "pygments_lexer": "ipython3",
      "version": "3.9.13"
    },
    "colab": {
      "provenance": []
    }
  },
  "nbformat": 4,
  "nbformat_minor": 5
}